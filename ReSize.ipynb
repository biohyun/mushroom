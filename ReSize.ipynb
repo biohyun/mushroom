{
  "nbformat": 4,
  "nbformat_minor": 0,
  "metadata": {
    "colab": {
      "provenance": []
    },
    "kernelspec": {
      "name": "python3",
      "display_name": "Python 3"
    },
    "language_info": {
      "name": "python"
    }
  },
  "cells": [
    {
      "cell_type": "code",
      "execution_count": null,
      "metadata": {
        "colab": {
          "base_uri": "https://localhost:8080/"
        },
        "id": "WDGc334N59dT",
        "outputId": "0cf69813-e323-40ea-c6d3-5e51e2f1b9d0"
      },
      "outputs": [
        {
          "output_type": "stream",
          "name": "stdout",
          "text": [
            "Requirement already satisfied: pillow in /usr/local/lib/python3.10/dist-packages (9.4.0)\n"
          ]
        }
      ],
      "source": [
        "pip install pillow"
      ]
    },
    {
      "cell_type": "code",
      "source": [
        "from PIL import Image\n",
        "import os\n",
        "\n",
        "#New image size\n",
        "new_size = 384\n",
        "\n",
        "#Folder path\n",
        "base_folder = '/content/drive/MyDrive/Mushrooms/data/'\n",
        "new_folder = '/content/drive/MyDrive/Mushrooms/newData_384/'\n",
        "\n",
        "#Image Count\n",
        "total_count = 0\n",
        "processed_count = 0\n",
        "\n",
        "for root, dirs, files in os.walk(base_folder):\n",
        "  for filename in files:\n",
        "    if filename.endswith(('.png')):\n",
        "        total_count += 1\n",
        "\n",
        "#Search Image\n",
        "for root, dirs, files in os.walk(base_folder):\n",
        "  #Make New Folder Hierarchy\n",
        "  relative_path = os.path.relpath(root, base_folder)\n",
        "  output_folder = os.path.join(new_folder, relative_path)\n",
        "  os.makedirs(output_folder, exist_ok=True)\n",
        "\n",
        "  for filename in files:\n",
        "    if filename.endswith(('.png')):\n",
        "      img_path = os.path.join(root, filename)\n",
        "      output_img_path = os.path.join(output_folder, filename)\n",
        "      try:\n",
        "        img = Image.open(img_path)\n",
        "        img = img.resize((new_size, new_size))\n",
        "        img.save(output_img_path)\n",
        "\n",
        "        processed_count += 1\n",
        "\n",
        "        print(f'진행률: {processed_count} / {total_count}')\n",
        "\n",
        "      except Exception as e:\n",
        "        print(f'{filename} 변경 오류: {str(e)}')"
      ],
      "metadata": {
        "id": "IUnHhqzvBlgh"
      },
      "execution_count": null,
      "outputs": []
    }
  ]
}