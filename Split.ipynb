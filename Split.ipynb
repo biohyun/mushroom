{
  "nbformat": 4,
  "nbformat_minor": 0,
  "metadata": {
    "colab": {
      "provenance": []
    },
    "kernelspec": {
      "name": "python3",
      "display_name": "Python 3"
    },
    "language_info": {
      "name": "python"
    }
  },
  "cells": [
    {
      "cell_type": "code",
      "execution_count": 1,
      "metadata": {
        "colab": {
          "base_uri": "https://localhost:8080/"
        },
        "id": "75wzBYN772JF",
        "outputId": "27dcde68-4a4c-43fa-ff49-60de5f6c6d4d"
      },
      "outputs": [
        {
          "output_type": "stream",
          "name": "stdout",
          "text": [
            "Collecting split-folders[full]\n",
            "  Downloading split_folders-0.5.1-py3-none-any.whl (8.4 kB)\n",
            "Requirement already satisfied: tqdm in /usr/local/lib/python3.10/dist-packages (from split-folders[full]) (4.66.1)\n",
            "Installing collected packages: split-folders\n",
            "Successfully installed split-folders-0.5.1\n"
          ]
        }
      ],
      "source": [
        "pip install split-folders[full]"
      ]
    },
    {
      "cell_type": "code",
      "source": [
        "import splitfolders\n",
        "\n",
        "input_folder = '/content/drive/MyDrive/Mushrooms/newData_384/'\n",
        "output_folder = '/content/drive/MyDrive/Mushrooms/newData_384_splited/'\n",
        "\n",
        "splitfolders.ratio(input_folder, output=output_folder, seed=1337, ratio=(.8, .1, .1))"
      ],
      "metadata": {
        "id": "-xKr6ET78QdN",
        "colab": {
          "base_uri": "https://localhost:8080/"
        },
        "outputId": "9969a9cf-bfaf-41d1-fc61-3184a91d7ece"
      },
      "execution_count": null,
      "outputs": [
        {
          "output_type": "stream",
          "name": "stderr",
          "text": [
            "Copying files: 98 files [00:25,  3.64 files/s]"
          ]
        }
      ]
    }
  ]
}